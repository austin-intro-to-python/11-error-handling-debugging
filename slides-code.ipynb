{
 "cells": [
  {
   "cell_type": "markdown",
   "id": "8a5bd489",
   "metadata": {},
   "source": [
    "## Error Handling and Debugging"
   ]
  },
  {
   "cell_type": "markdown",
   "id": "29591edf",
   "metadata": {},
   "source": [
    "### Error messages"
   ]
  },
  {
   "cell_type": "markdown",
   "id": "66448f3f",
   "metadata": {},
   "source": [
    " What's wrong with the code snippet below? What information is the error message giving us?"
   ]
  },
  {
   "cell_type": "code",
   "execution_count": null,
   "id": "8c7e7dc4",
   "metadata": {},
   "outputs": [],
   "source": [
    "x = 5\n",
    "y = 0\n",
    "print (x/y)"
   ]
  },
  {
   "cell_type": "markdown",
   "id": "0ce389d0",
   "metadata": {},
   "source": [
    "###  Logic Errors"
   ]
  },
  {
   "cell_type": "code",
   "execution_count": null,
   "id": "4377edba",
   "metadata": {},
   "outputs": [],
   "source": [
    "# hundred is actually 20!\n",
    "def multiply(num_1, num_2): \n",
    "    return num_1 + num_2\n",
    "hundred = multiply(10, 10)\n",
    "print(hundred)"
   ]
  },
  {
   "cell_type": "markdown",
   "id": "47317795",
   "metadata": {},
   "source": [
    "## Debugging a Sort Function"
   ]
  },
  {
   "cell_type": "markdown",
   "id": "f16cbcdd",
   "metadata": {},
   "source": [
    "#### Bubble Sort\n",
    "* https://www.geeksforgeeks.org/bubble-sort/\n",
    "* https://www.geeksforgeeks.org/python-program-for-bubble-sort/"
   ]
  },
  {
   "cell_type": "markdown",
   "id": "1ba53b2b",
   "metadata": {},
   "source": [
    "Bubble Sort is the simplest sorting algorithm that works by repeatedly swapping the adjacent elements if they are in wrong order.\n",
    "![](https://media.geeksforgeeks.org/wp-content/cdn-uploads/gq/2014/02/bubble-sort1.png)"
   ]
  },
  {
   "cell_type": "code",
   "execution_count": null,
   "id": "01e34e14",
   "metadata": {},
   "outputs": [],
   "source": [
    "# Recursive Python program for insertion sort\n",
    "# Recursive function to sort an array using insertion sort\n",
    " \n",
    "# An optimized version of Bubble Sort\n",
    "def bubble_sort(arr):\n",
    "    n = len(arr)\n",
    "  \n",
    "    # Traverse through all array elements\n",
    "    for i in range(n):\n",
    "        swapped = False\n",
    " \n",
    "        # Last i elements are already in place\n",
    "        for j in range(0, n-i-1):\n",
    "  \n",
    "            # traverse the array from 0 to n-i-1. \n",
    "            # Swap if the element found is greater \n",
    "            # than the next element\n",
    "            if arr[j] > arr[j+1] :\n",
    "                arr[j], arr[j+1] = arr[j+1], arr[j]\n",
    "                swapped = True\n",
    " \n",
    "        # If no two elements were swapped\n",
    "        # by inner loop, then break\n",
    "        if swapped == False:\n",
    "            break\n",
    "        print(f'Round {i}!', arr)  \n",
    "    return arr"
   ]
  },
  {
   "cell_type": "code",
   "execution_count": null,
   "id": "ca2f76af",
   "metadata": {},
   "outputs": [],
   "source": [
    "# Driver code to test above\n",
    "arr = [64, 34, 25, 12, 22, 11, 90]\n",
    "new_arr = bubble_sort(arr)  \n",
    "print(new_arr)"
   ]
  },
  {
   "cell_type": "markdown",
   "id": "0b181ac2",
   "metadata": {},
   "source": [
    "##  Try and Except Your Code"
   ]
  },
  {
   "cell_type": "code",
   "execution_count": null,
   "id": "6c5f44bd",
   "metadata": {},
   "outputs": [],
   "source": [
    "# An optimized version of Bubble Sort\n",
    "def bubble_sort(arr):\n",
    "    try: \n",
    "        n = len(arr)\n",
    "\n",
    "        # Traverse through all array elements\n",
    "        for i in range(n):\n",
    "            swapped = False\n",
    "\n",
    "            # Last i elements are already in place\n",
    "            for j in range(0, n-i-1):\n",
    "\n",
    "                # traverse the array from 0 to n-i-1. \n",
    "                # Swap if the element found is greater \n",
    "                # than the next element\n",
    "                if arr[j] > arr[j+1] :\n",
    "                    arr[j], arr[j+1] = arr[j+1], arr[j]\n",
    "                    swapped = True\n",
    "\n",
    "            # If no two elements were swapped\n",
    "            # by inner loop, then break\n",
    "            if swapped == False:\n",
    "                break\n",
    "            print(f'Round {i}!', arr)  \n",
    "        return arr\n",
    "    except:\n",
    "        print('Inadequate inputs')\n",
    "        "
   ]
  },
  {
   "cell_type": "code",
   "execution_count": null,
   "id": "35dabcde",
   "metadata": {},
   "outputs": [],
   "source": [
    "# Driver code to test above\n",
    "arr = ['red', True, (59,60), 12.3, 'blue','green']\n",
    "new_arr = bubble_sort(arr)  \n",
    "print(new_arr)"
   ]
  },
  {
   "cell_type": "code",
   "execution_count": null,
   "id": "b5caf8bd",
   "metadata": {},
   "outputs": [],
   "source": [
    "lucky_number = int(input(\"Type a number that's less than 100\")) \n",
    "if(lucky_number > 100):\n",
    "    raise ValueError(\"The number needs to be less than 100!\")\n",
    " "
   ]
  },
  {
   "cell_type": "markdown",
   "id": "d19af556",
   "metadata": {},
   "source": [
    "### Error Handling Possibilities"
   ]
  },
  {
   "cell_type": "code",
   "execution_count": 15,
   "id": "eb5744da",
   "metadata": {},
   "outputs": [],
   "source": [
    "def process_valid_number():\n",
    "    try:\n",
    "        lucky_number = int(input(\"Type a number that's less than 100\")) \n",
    "        if(lucky_number > 100):\n",
    "            print(\"The number needs to be less than 100!\") \n",
    "        else:\n",
    "            if lucky_number%7==0:\n",
    "                print(\"that's a lucky number. You win!\")\n",
    "            else:\n",
    "                print(\"that's not a lucky number. You lose!\")\n",
    "    except ValueError as err:\n",
    "        print(\"You need to provide a number\")"
   ]
  },
  {
   "cell_type": "code",
   "execution_count": 17,
   "id": "ed785906",
   "metadata": {},
   "outputs": [
    {
     "name": "stdout",
     "output_type": "stream",
     "text": [
      "Type a number that's less than 100104\n",
      "The number needs to be less than 100!\n"
     ]
    }
   ],
   "source": [
    "process_valid_number()"
   ]
  },
  {
   "cell_type": "code",
   "execution_count": null,
   "id": "be46dfa3",
   "metadata": {},
   "outputs": [],
   "source": []
  }
 ],
 "metadata": {
  "kernelspec": {
   "display_name": "Python 3 (ipykernel)",
   "language": "python",
   "name": "python3"
  },
  "language_info": {
   "codemirror_mode": {
    "name": "ipython",
    "version": 3
   },
   "file_extension": ".py",
   "mimetype": "text/x-python",
   "name": "python",
   "nbconvert_exporter": "python",
   "pygments_lexer": "ipython3",
   "version": "3.9.7"
  }
 },
 "nbformat": 4,
 "nbformat_minor": 5
}
