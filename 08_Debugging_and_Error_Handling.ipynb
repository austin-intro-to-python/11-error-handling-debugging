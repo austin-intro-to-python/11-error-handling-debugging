{
  "cells": [
    {
      "cell_type": "markdown",
      "metadata": {
        "id": "aIeEc5y1k1q8"
      },
      "source": [
        "#### Error Scavenger Hunt\n",
        "For each code sample below, add a comment describing, in your own words, what the error type was, what it means, and how to fix it."
      ]
    },
    {
      "cell_type": "code",
      "execution_count": null,
      "metadata": {
        "id": "AtEz7mGxk1rC"
      },
      "outputs": [],
      "source": [
        "errors = {\n",
        "    \"Key Error\" : \"big mistake\"\n",
        "}\n",
        "print(f\"Try to avoid committing a {errors['key_error']}\")"
      ]
    },
    {
      "cell_type": "code",
      "execution_count": null,
      "metadata": {
        "id": "mOsVK-amk1rD"
      },
      "outputs": [],
      "source": [
        "print(f\"Similarly, it's easy to make an {errors.attribute_error}\")"
      ]
    },
    {
      "cell_type": "code",
      "execution_count": null,
      "metadata": {
        "id": "TwxW_sXXk1rE"
      },
      "outputs": [],
      "source": [
        "import CodeWithoutErrors"
      ]
    },
    {
      "cell_type": "code",
      "execution_count": null,
      "metadata": {
        "scrolled": true,
        "id": "DzO-DG2Sk1rF"
      },
      "outputs": [],
      "source": [
        "race_runners = [\"Yuna\", \"Bill\", \"Hyun\"]\n",
        "\n",
        "first_place = race_runners[1]\n",
        "second_place = race_runners[2]\n",
        "third_place = race_runners[3]\n",
        "\n",
        "print(\"The winners are:\", first_place, second_place, third_place) "
      ]
    },
    {
      "cell_type": "code",
      "execution_count": null,
      "metadata": {
        "scrolled": true,
        "id": "rm3jms1Ak1rG"
      },
      "outputs": [],
      "source": [
        "code_is_perfect = False\n",
        "if code_is_perfect:\n",
        "print(\"I am invincible!\")"
      ]
    },
    {
      "cell_type": "code",
      "execution_count": null,
      "metadata": {
        "scrolled": true,
        "id": "4UF0AJSCk1rG"
      },
      "outputs": [],
      "source": [
        "print(nameless_variable)"
      ]
    },
    {
      "cell_type": "code",
      "execution_count": null,
      "metadata": {
        "scrolled": true,
        "id": "qPCKxxLXk1rG"
      },
      "outputs": [],
      "source": [
        "knowledge_of_python = 40\n",
        "if knowledge_of_python > 50\n",
        "    print(\"you will never make a mistake again\")"
      ]
    },
    {
      "cell_type": "code",
      "execution_count": null,
      "metadata": {
        "scrolled": true,
        "id": "fmK5Mp_Mk1rJ"
      },
      "outputs": [],
      "source": [
        "print(99 + \"Red Balloons\")"
      ]
    },
    {
      "cell_type": "code",
      "execution_count": null,
      "metadata": {
        "id": "A1cBa38Tk1rK"
      },
      "outputs": [],
      "source": [
        "5 + int(\"five\")"
      ]
    },
    {
      "cell_type": "markdown",
      "metadata": {
        "id": "UsCmrN_Bk1rM"
      },
      "source": [
        "#### Exceptional Error Handling\n",
        "We want to add some restrictions to the User class below:\n",
        "\n",
        "username must be unique. If a user in all_users has the same username, raise an exception.\n",
        "\n",
        "email must match a standard email regex pattern. Hint: this is a classic google situation!\n",
        "\n",
        "password must be at least 8 characters and contain a number. Hint: \"test if a string contains a number python\""
      ]
    },
    {
      "cell_type": "code",
      "execution_count": null,
      "metadata": {
        "id": "Menm-PAsk1rM"
      },
      "outputs": [],
      "source": [
        "# A.\n",
        "# Add exception raising to the __init__ method to ensure users with invalid properties throw errors\n",
        "# For each property, raise an exception with a specific error message so we can test the message later\n",
        "# Only fully valid users should make it to the all_users list\n",
        "class User:\n",
        "    all_users = []\n",
        "    def __init__(self, username, email, password):\n",
        "        self.username = username\n",
        "        self.email = email\n",
        "        self.password = password\n",
        "        all_users.append(self)\n",
        "        print(f\"SUCCESSFULLY CREATED THE USER {username} WITH EMAIL {email} AND PASSWORD {password}\")"
      ]
    },
    {
      "cell_type": "code",
      "execution_count": null,
      "metadata": {
        "id": "mlETrOflk1rN"
      },
      "outputs": [],
      "source": [
        "# B.\n",
        "# Add try/except handling to this function\n",
        "# If an error is raised, check the error message to determine what value is invalid\n",
        "# Use the input function to get a new input for the invalid value\n",
        "# Once you have a new value from the user, invoke create_new_user again with updated input value\n",
        "def create_new_user(username, email, password):\n",
        "    new_user = User(username, email, password)\n",
        "    return new_user"
      ]
    },
    {
      "cell_type": "code",
      "execution_count": null,
      "metadata": {
        "id": "hnI9sgg_k1rO"
      },
      "outputs": [],
      "source": [
        "# C.    \n",
        "users_awaiting_creation = [\n",
        "    {\"username\":\"El_Barto\", \"email\":\"el_barto@gmail.com\", \"password\":\"a1b2c3d4\"}, #should be valid\n",
        "    {\"username\":\"El_Barto\", \"email\":\"barto_the_second@gmail.com\", \"password\":\"a1b2c3d4\"}, #should be invalid due to username\n",
        "    {\"username\":\"pythonista\", \"email\":\"programmer_supreme@hotmail.com\", \"password\":\"2short\"}, #should have invalid password length\n",
        "    {\"username\":\"verbose_user\", \"email\":\"iliketypingalot@aol.com\", \"password\":\"longenoughbutnodigits\"}, #should be invalid password due to no digits\n",
        "    {\"username\":\"off_tha_grid\", \"email\":\"none_provided\", \"password\":\"iburygold3\"},\n",
        "]\n",
        "# This loop should raise a good deal of errors due to bad user data\n",
        "# If you've added proper input prompts and error handling, you should be able to type in valid alternatives\n",
        "# By the end, you should see successful creation messages for the 5 users\n",
        "for user in users_awaiting_creation:\n",
        "    new_user = create_new_user(user)"
      ]
    }
  ],
  "metadata": {
    "kernelspec": {
      "display_name": "Python 3",
      "language": "python",
      "name": "python3"
    },
    "language_info": {
      "codemirror_mode": {
        "name": "ipython",
        "version": 3
      },
      "file_extension": ".py",
      "mimetype": "text/x-python",
      "name": "python",
      "nbconvert_exporter": "python",
      "pygments_lexer": "ipython3",
      "version": "3.7.6"
    },
    "colab": {
      "name": "08. Debugging and Error Handling.ipynb",
      "provenance": []
    }
  },
  "nbformat": 4,
  "nbformat_minor": 0
}