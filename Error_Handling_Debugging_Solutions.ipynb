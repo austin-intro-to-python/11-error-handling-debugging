{
 "cells": [
  {
   "cell_type": "markdown",
   "metadata": {
    "id": "6Us_oUmNSOFL"
   },
   "source": [
    "#### Error Scavenger Hunt\n",
    "For each code sample below, add a comment describing, in your own words, what the error type was, what it means, and how to fix it."
   ]
  },
  {
   "cell_type": "code",
   "execution_count": 1,
   "metadata": {
    "id": "GNo0iV4qSOFO"
   },
   "outputs": [
    {
     "ename": "KeyError",
     "evalue": "'key_error'",
     "output_type": "error",
     "traceback": [
      "\u001b[0;31m---------------------------------------------------------------------------\u001b[0m",
      "\u001b[0;31mKeyError\u001b[0m                                  Traceback (most recent call last)",
      "\u001b[0;32m/var/folders/2l/f34xc_012glb01q2tq40qxgw0000gn/T/ipykernel_37164/940333916.py\u001b[0m in \u001b[0;36m<module>\u001b[0;34m\u001b[0m\n\u001b[1;32m      2\u001b[0m     \u001b[0;34m\"Key Error\"\u001b[0m \u001b[0;34m:\u001b[0m \u001b[0;34m\"big mistake\"\u001b[0m\u001b[0;34m\u001b[0m\u001b[0;34m\u001b[0m\u001b[0m\n\u001b[1;32m      3\u001b[0m }\n\u001b[0;32m----> 4\u001b[0;31m \u001b[0mprint\u001b[0m\u001b[0;34m(\u001b[0m\u001b[0;34mf\"Try to avoid committing a {errors['key_error']}\"\u001b[0m\u001b[0;34m)\u001b[0m\u001b[0;34m\u001b[0m\u001b[0;34m\u001b[0m\u001b[0m\n\u001b[0m",
      "\u001b[0;31mKeyError\u001b[0m: 'key_error'"
     ]
    }
   ],
   "source": [
    "errors = {\n",
    "    \"Key Error\" : \"big mistake\"\n",
    "}\n",
    "print(f\"Try to avoid committing a {errors['key_error']}\")"
   ]
  },
  {
   "cell_type": "code",
   "execution_count": 2,
   "metadata": {
    "id": "nEsY3jrwSOFR"
   },
   "outputs": [
    {
     "ename": "AttributeError",
     "evalue": "'dict' object has no attribute 'attribute_error'",
     "output_type": "error",
     "traceback": [
      "\u001b[0;31m---------------------------------------------------------------------------\u001b[0m",
      "\u001b[0;31mAttributeError\u001b[0m                            Traceback (most recent call last)",
      "\u001b[0;32m/var/folders/2l/f34xc_012glb01q2tq40qxgw0000gn/T/ipykernel_37164/3786742306.py\u001b[0m in \u001b[0;36m<module>\u001b[0;34m\u001b[0m\n\u001b[0;32m----> 1\u001b[0;31m \u001b[0mprint\u001b[0m\u001b[0;34m(\u001b[0m\u001b[0;34mf\"Similarly, it's easy to make an {errors.attribute_error}\"\u001b[0m\u001b[0;34m)\u001b[0m\u001b[0;34m\u001b[0m\u001b[0;34m\u001b[0m\u001b[0m\n\u001b[0m",
      "\u001b[0;31mAttributeError\u001b[0m: 'dict' object has no attribute 'attribute_error'"
     ]
    }
   ],
   "source": [
    "print(f\"Similarly, it's easy to make an {errors.attribute_error}\")"
   ]
  },
  {
   "cell_type": "code",
   "execution_count": 3,
   "metadata": {
    "id": "iVrRE-v5SOFT"
   },
   "outputs": [
    {
     "ename": "ModuleNotFoundError",
     "evalue": "No module named 'CodeWithoutErrors'",
     "output_type": "error",
     "traceback": [
      "\u001b[0;31m---------------------------------------------------------------------------\u001b[0m",
      "\u001b[0;31mModuleNotFoundError\u001b[0m                       Traceback (most recent call last)",
      "\u001b[0;32m/var/folders/2l/f34xc_012glb01q2tq40qxgw0000gn/T/ipykernel_37164/2818646597.py\u001b[0m in \u001b[0;36m<module>\u001b[0;34m\u001b[0m\n\u001b[0;32m----> 1\u001b[0;31m \u001b[0;32mimport\u001b[0m \u001b[0mCodeWithoutErrors\u001b[0m\u001b[0;34m\u001b[0m\u001b[0;34m\u001b[0m\u001b[0m\n\u001b[0m",
      "\u001b[0;31mModuleNotFoundError\u001b[0m: No module named 'CodeWithoutErrors'"
     ]
    }
   ],
   "source": [
    "import CodeWithoutErrors"
   ]
  },
  {
   "cell_type": "code",
   "execution_count": 4,
   "metadata": {
    "id": "kPk-zx0uSOFV",
    "scrolled": true
   },
   "outputs": [
    {
     "ename": "IndexError",
     "evalue": "list index out of range",
     "output_type": "error",
     "traceback": [
      "\u001b[0;31m---------------------------------------------------------------------------\u001b[0m",
      "\u001b[0;31mIndexError\u001b[0m                                Traceback (most recent call last)",
      "\u001b[0;32m/var/folders/2l/f34xc_012glb01q2tq40qxgw0000gn/T/ipykernel_37164/2494402576.py\u001b[0m in \u001b[0;36m<module>\u001b[0;34m\u001b[0m\n\u001b[1;32m      3\u001b[0m \u001b[0mfirst_place\u001b[0m \u001b[0;34m=\u001b[0m \u001b[0mrace_runners\u001b[0m\u001b[0;34m[\u001b[0m\u001b[0;36m1\u001b[0m\u001b[0;34m]\u001b[0m\u001b[0;34m\u001b[0m\u001b[0;34m\u001b[0m\u001b[0m\n\u001b[1;32m      4\u001b[0m \u001b[0msecond_place\u001b[0m \u001b[0;34m=\u001b[0m \u001b[0mrace_runners\u001b[0m\u001b[0;34m[\u001b[0m\u001b[0;36m2\u001b[0m\u001b[0;34m]\u001b[0m\u001b[0;34m\u001b[0m\u001b[0;34m\u001b[0m\u001b[0m\n\u001b[0;32m----> 5\u001b[0;31m \u001b[0mthird_place\u001b[0m \u001b[0;34m=\u001b[0m \u001b[0mrace_runners\u001b[0m\u001b[0;34m[\u001b[0m\u001b[0;36m3\u001b[0m\u001b[0;34m]\u001b[0m\u001b[0;34m\u001b[0m\u001b[0;34m\u001b[0m\u001b[0m\n\u001b[0m\u001b[1;32m      6\u001b[0m \u001b[0;34m\u001b[0m\u001b[0m\n\u001b[1;32m      7\u001b[0m \u001b[0mprint\u001b[0m\u001b[0;34m(\u001b[0m\u001b[0;34m\"The winners are:\"\u001b[0m\u001b[0;34m,\u001b[0m \u001b[0mfirst_place\u001b[0m\u001b[0;34m,\u001b[0m \u001b[0msecond_place\u001b[0m\u001b[0;34m,\u001b[0m \u001b[0mthird_place\u001b[0m\u001b[0;34m)\u001b[0m\u001b[0;34m\u001b[0m\u001b[0;34m\u001b[0m\u001b[0m\n",
      "\u001b[0;31mIndexError\u001b[0m: list index out of range"
     ]
    }
   ],
   "source": [
    "race_runners = [\"Yuna\", \"Bill\", \"Hyun\"]\n",
    "\n",
    "first_place = race_runners[1]\n",
    "second_place = race_runners[2]\n",
    "third_place = race_runners[3]\n",
    "\n",
    "print(\"The winners are:\", first_place, second_place, third_place) "
   ]
  },
  {
   "cell_type": "code",
   "execution_count": 5,
   "metadata": {
    "id": "3mL6VBa1SOFV",
    "scrolled": true
   },
   "outputs": [
    {
     "ename": "IndentationError",
     "evalue": "expected an indented block (1618862145.py, line 3)",
     "output_type": "error",
     "traceback": [
      "\u001b[0;36m  File \u001b[0;32m\"/var/folders/2l/f34xc_012glb01q2tq40qxgw0000gn/T/ipykernel_37164/1618862145.py\"\u001b[0;36m, line \u001b[0;32m3\u001b[0m\n\u001b[0;31m    print(\"I am invincible!\")\u001b[0m\n\u001b[0m    ^\u001b[0m\n\u001b[0;31mIndentationError\u001b[0m\u001b[0;31m:\u001b[0m expected an indented block\n"
     ]
    }
   ],
   "source": [
    "code_is_perfect = False\n",
    "if code_is_perfect:\n",
    "print(\"I am invincible!\")"
   ]
  },
  {
   "cell_type": "code",
   "execution_count": 6,
   "metadata": {
    "id": "ZjiMzjjOSOFX",
    "scrolled": true
   },
   "outputs": [
    {
     "ename": "NameError",
     "evalue": "name 'nameless_variable' is not defined",
     "output_type": "error",
     "traceback": [
      "\u001b[0;31m---------------------------------------------------------------------------\u001b[0m",
      "\u001b[0;31mNameError\u001b[0m                                 Traceback (most recent call last)",
      "\u001b[0;32m/var/folders/2l/f34xc_012glb01q2tq40qxgw0000gn/T/ipykernel_37164/768859877.py\u001b[0m in \u001b[0;36m<module>\u001b[0;34m\u001b[0m\n\u001b[0;32m----> 1\u001b[0;31m \u001b[0mprint\u001b[0m\u001b[0;34m(\u001b[0m\u001b[0mnameless_variable\u001b[0m\u001b[0;34m)\u001b[0m\u001b[0;34m\u001b[0m\u001b[0;34m\u001b[0m\u001b[0m\n\u001b[0m",
      "\u001b[0;31mNameError\u001b[0m: name 'nameless_variable' is not defined"
     ]
    }
   ],
   "source": [
    "print(nameless_variable)"
   ]
  },
  {
   "cell_type": "code",
   "execution_count": 7,
   "metadata": {
    "id": "-5KXa_beSOFY",
    "scrolled": true
   },
   "outputs": [
    {
     "ename": "SyntaxError",
     "evalue": "invalid syntax (3683025114.py, line 2)",
     "output_type": "error",
     "traceback": [
      "\u001b[0;36m  File \u001b[0;32m\"/var/folders/2l/f34xc_012glb01q2tq40qxgw0000gn/T/ipykernel_37164/3683025114.py\"\u001b[0;36m, line \u001b[0;32m2\u001b[0m\n\u001b[0;31m    if knowledge_of_python > 50\u001b[0m\n\u001b[0m                               ^\u001b[0m\n\u001b[0;31mSyntaxError\u001b[0m\u001b[0;31m:\u001b[0m invalid syntax\n"
     ]
    }
   ],
   "source": [
    "knowledge_of_python = 40\n",
    "if knowledge_of_python > 50\n",
    "    print(\"you will never make a mistake again\")"
   ]
  },
  {
   "cell_type": "code",
   "execution_count": 8,
   "metadata": {
    "id": "n60iW8s4SOFZ",
    "scrolled": true
   },
   "outputs": [
    {
     "ename": "TypeError",
     "evalue": "unsupported operand type(s) for +: 'int' and 'str'",
     "output_type": "error",
     "traceback": [
      "\u001b[0;31m---------------------------------------------------------------------------\u001b[0m",
      "\u001b[0;31mTypeError\u001b[0m                                 Traceback (most recent call last)",
      "\u001b[0;32m/var/folders/2l/f34xc_012glb01q2tq40qxgw0000gn/T/ipykernel_37164/2063870213.py\u001b[0m in \u001b[0;36m<module>\u001b[0;34m\u001b[0m\n\u001b[0;32m----> 1\u001b[0;31m \u001b[0mprint\u001b[0m\u001b[0;34m(\u001b[0m\u001b[0;36m99\u001b[0m \u001b[0;34m+\u001b[0m \u001b[0;34m\"Red Balloons\"\u001b[0m\u001b[0;34m)\u001b[0m\u001b[0;34m\u001b[0m\u001b[0;34m\u001b[0m\u001b[0m\n\u001b[0m",
      "\u001b[0;31mTypeError\u001b[0m: unsupported operand type(s) for +: 'int' and 'str'"
     ]
    }
   ],
   "source": [
    "print(99 + \"Red Balloons\")"
   ]
  },
  {
   "cell_type": "code",
   "execution_count": 9,
   "metadata": {
    "id": "REdp6kHlSOFa"
   },
   "outputs": [
    {
     "ename": "ValueError",
     "evalue": "invalid literal for int() with base 10: 'five'",
     "output_type": "error",
     "traceback": [
      "\u001b[0;31m---------------------------------------------------------------------------\u001b[0m",
      "\u001b[0;31mValueError\u001b[0m                                Traceback (most recent call last)",
      "\u001b[0;32m/var/folders/2l/f34xc_012glb01q2tq40qxgw0000gn/T/ipykernel_37164/3427418078.py\u001b[0m in \u001b[0;36m<module>\u001b[0;34m\u001b[0m\n\u001b[0;32m----> 1\u001b[0;31m \u001b[0;36m5\u001b[0m \u001b[0;34m+\u001b[0m \u001b[0mint\u001b[0m\u001b[0;34m(\u001b[0m\u001b[0;34m\"five\"\u001b[0m\u001b[0;34m)\u001b[0m\u001b[0;34m\u001b[0m\u001b[0;34m\u001b[0m\u001b[0m\n\u001b[0m",
      "\u001b[0;31mValueError\u001b[0m: invalid literal for int() with base 10: 'five'"
     ]
    }
   ],
   "source": [
    "5 + int(\"five\")"
   ]
  },
  {
   "cell_type": "markdown",
   "metadata": {
    "id": "iqLlJtZjSOFb"
   },
   "source": [
    "#### Exceptional Error Handling\n",
    "We want to add some restrictions to the User class below:\n",
    "\n",
    "username must be unique. If a user in all_users has the same username, raise an exception.\n",
    "\n",
    "email must match a standard email regex pattern. Hint: this is a classic google situation!\n",
    "\n",
    "password must be at least 8 characters and contain a number. Hint: \"test if a string contains a number python\""
   ]
  },
  {
   "cell_type": "code",
   "execution_count": 10,
   "metadata": {
    "id": "c0aa7GNkSOFc"
   },
   "outputs": [],
   "source": [
    "# A.\n",
    "# Add exception raising to the __init__ method to ensure users with invalid properties throw errors\n",
    "# For each property, raise an exception with a specific error message so we can test the message later\n",
    "# Only fully valid users should make it to the all_users list\n",
    "import re\n",
    "email_regex = '^(\\w|\\.|\\_|\\-)+[@](\\w|\\_|\\-|\\.)+[.]\\w{2,3}$'\n",
    "\n",
    "class User:\n",
    "    all_users = []\n",
    "    def __init__(self, username, email, password):\n",
    "        for user in User.all_users:\n",
    "            if user.username == username:\n",
    "                raise ValueError(\"This username is already taken\")\n",
    "        self.username = username\n",
    "        if re.search(email_regex, email):\n",
    "            self.email = email\n",
    "        else:\n",
    "            raise ValueError(\"Invalid email format\")\n",
    "        if len(password) > 7 and any(char.isdigit() for char in password): \n",
    "            self.password = password\n",
    "        else:\n",
    "            raise ValueError(\"Password must be at least 8 characters and contain a number\")\n",
    "        self.password = password\n",
    "        User.all_users.append(self)\n",
    "        print(f\"SUCCESSFULLY CREATED THE USER {username} WITH EMAIL {email} AND PASSWORD {password}\")"
   ]
  },
  {
   "cell_type": "code",
   "execution_count": 11,
   "metadata": {
    "id": "Y22D3xFcSOFg"
   },
   "outputs": [],
   "source": [
    "# B.\n",
    "# Add try/except handling to this function\n",
    "# If an error is raised, check the error message to determine what value is invalid\n",
    "# Use the input function to get a new input for the invalid value\n",
    "# Once you have a new value from the user, invoke create_new_user again with updated input value\n",
    "def create_new_user(username, email, password):\n",
    "    try:\n",
    "        new_user = User(username, email, password)\n",
    "        return new_user\n",
    "    except ValueError as err:\n",
    "        if str(err) == \"This username is already taken\":\n",
    "            new_username = input(f\"Pick a new username instead of {username}\")\n",
    "            create_new_user(new_username, email, password)\n",
    "        elif str(err) == \"Password must be at least 8 characters and contain a number\":\n",
    "            new_password = input(f\"Pick a new password instead of {password}\")\n",
    "            create_new_user(username, email, new_password)\n",
    "        elif str(err) == \"Invalid email format\":\n",
    "            new_email = input(f\"Pick a new email instead of {email}\")\n",
    "            create_new_user(username, new_email, password)"
   ]
  },
  {
   "cell_type": "code",
   "execution_count": 12,
   "metadata": {
    "id": "tnHg6tjwSOFp"
   },
   "outputs": [
    {
     "ename": "TypeError",
     "evalue": "create_new_user() missing 2 required positional arguments: 'email' and 'password'",
     "output_type": "error",
     "traceback": [
      "\u001b[0;31m---------------------------------------------------------------------------\u001b[0m",
      "\u001b[0;31mTypeError\u001b[0m                                 Traceback (most recent call last)",
      "\u001b[0;32m/var/folders/2l/f34xc_012glb01q2tq40qxgw0000gn/T/ipykernel_37164/3005321119.py\u001b[0m in \u001b[0;36m<module>\u001b[0;34m\u001b[0m\n\u001b[1;32m     11\u001b[0m \u001b[0;31m# By the end, you should see successful creation messages for the 5 users\u001b[0m\u001b[0;34m\u001b[0m\u001b[0;34m\u001b[0m\u001b[0m\n\u001b[1;32m     12\u001b[0m \u001b[0;32mfor\u001b[0m \u001b[0muser\u001b[0m \u001b[0;32min\u001b[0m \u001b[0musers_awaiting_creation\u001b[0m\u001b[0;34m:\u001b[0m\u001b[0;34m\u001b[0m\u001b[0;34m\u001b[0m\u001b[0m\n\u001b[0;32m---> 13\u001b[0;31m     \u001b[0mnew_user\u001b[0m \u001b[0;34m=\u001b[0m \u001b[0mcreate_new_user\u001b[0m\u001b[0;34m(\u001b[0m\u001b[0muser\u001b[0m\u001b[0;34m)\u001b[0m\u001b[0;34m\u001b[0m\u001b[0;34m\u001b[0m\u001b[0m\n\u001b[0m",
      "\u001b[0;31mTypeError\u001b[0m: create_new_user() missing 2 required positional arguments: 'email' and 'password'"
     ]
    }
   ],
   "source": [
    "# C.    \n",
    "users_awaiting_creation = [\n",
    "    {\"username\":\"El_Barto\", \"email\":\"el_barto@gmail.com\", \"password\":\"a1b2c3d4\"}, #should be valid\n",
    "    {\"username\":\"El_Barto\", \"email\":\"barto_the_second@gmail.com\", \"password\":\"a1b2c3d4\"}, #should be invalid due to username\n",
    "    {\"username\":\"pythonista\", \"email\":\"programmer_supreme@hotmail.com\", \"password\":\"2short\"}, #should have invalid password length\n",
    "    {\"username\":\"verbose_user\", \"email\":\"iliketypingalot@aol.com\", \"password\":\"longenoughbutnodigits\"}, #should be invalid password due to no digits\n",
    "    {\"username\":\"off_tha_grid\", \"email\":\"none_provided\", \"password\":\"iburygold3\"},\n",
    "]\n",
    "# This loop should raise a good deal of errors due to bad user data\n",
    "# If you've added proper input prompts and error handling, you should be able to prompt the user for valid alternatives\n",
    "# By the end, you should see successful creation messages for the 5 users\n",
    "for user in users_awaiting_creation:\n",
    "    new_user = create_new_user(user)"
   ]
  },
  {
   "cell_type": "code",
   "execution_count": null,
   "metadata": {},
   "outputs": [],
   "source": []
  },
  {
   "cell_type": "code",
   "execution_count": null,
   "metadata": {},
   "outputs": [],
   "source": []
  }
 ],
 "metadata": {
  "colab": {
   "name": "08. Debugging and Error Handling - Solution.ipynb",
   "provenance": []
  },
  "kernelspec": {
   "display_name": "Python 3 (ipykernel)",
   "language": "python",
   "name": "python3"
  },
  "language_info": {
   "codemirror_mode": {
    "name": "ipython",
    "version": 3
   },
   "file_extension": ".py",
   "mimetype": "text/x-python",
   "name": "python",
   "nbconvert_exporter": "python",
   "pygments_lexer": "ipython3",
   "version": "3.9.7"
  }
 },
 "nbformat": 4,
 "nbformat_minor": 1
}
